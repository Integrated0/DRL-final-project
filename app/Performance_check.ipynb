{
 "cells": [
  {
   "cell_type": "code",
   "execution_count": 2,
   "metadata": {},
   "outputs": [
    {
     "data": {
      "text/plain": [
       "0.9027719857792379"
      ]
     },
     "execution_count": 2,
     "metadata": {},
     "output_type": "execute_result"
    }
   ],
   "source": [
    "import pickle\n",
    "import json\n",
    "import pandas as pd\n",
    "\n",
    "from utils.dataloader import DataLoader \n",
    "from settings.constants import DATA_CSV\n",
    "\n",
    "with open('settings/specifications.json') as f:\n",
    "    specifications = json.load(f)\n",
    "\n",
    "final_columns = specifications['description']['final_columns']\n",
    "y_column = specifications['description']['y']\n",
    "\n",
    "raw_data = pd.read_csv(DATA_CSV)\n",
    "\n",
    "loader = DataLoader()\n",
    "loader.fit(raw_data)\n",
    "loader.load_data()\n",
    "_, val_processed = loader.split_data()\n",
    "\n",
    "X = val_processed[final_columns]\n",
    "y = val_processed[y_column]\n",
    "\n",
    "loaded_model = pickle.load(open('models/KRR.pickle', 'rb'))\n",
    "loaded_model.score(X, y)"
   ]
  },
  {
   "cell_type": "code",
   "execution_count": null,
   "metadata": {},
   "outputs": [],
   "source": []
  }
 ],
 "metadata": {
  "kernelspec": {
   "display_name": "Python 3",
   "language": "python",
   "name": "python3"
  },
  "language_info": {
   "codemirror_mode": {
    "name": "ipython",
    "version": 3
   },
   "file_extension": ".py",
   "mimetype": "text/x-python",
   "name": "python",
   "nbconvert_exporter": "python",
   "pygments_lexer": "ipython3",
   "version": "3.7.3"
  }
 },
 "nbformat": 4,
 "nbformat_minor": 2
}
